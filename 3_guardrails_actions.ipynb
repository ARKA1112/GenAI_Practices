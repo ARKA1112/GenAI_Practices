{
 "cells": [
  {
   "cell_type": "code",
   "execution_count": 1,
   "metadata": {},
   "outputs": [
    {
     "data": {
      "text/plain": [
       "True"
      ]
     },
     "execution_count": 1,
     "metadata": {},
     "output_type": "execute_result"
    }
   ],
   "source": [
    "import os\n",
    "from dotenv import load_dotenv\n",
    "import openai\n",
    "load_dotenv()"
   ]
  },
  {
   "cell_type": "code",
   "execution_count": 8,
   "metadata": {},
   "outputs": [],
   "source": [
    "colang_content =\"\"\"\n",
    "# define limits\n",
    "define user ask politics\n",
    "    \"political parties?\"\n",
    "    \"right wing\"\n",
    "    \"left wing\"\n",
    "    \"communism\"\n",
    "    \"porn\"\n",
    "    \"thoughts on president\"\n",
    "\n",
    "define bot answer politics\n",
    "    \"Sorry,I'm a healthcare assistant\"\n",
    "    \"Sorry,No politics please\"\n",
    "\n",
    "#anything else\n",
    "define flow\n",
    "    user ...\n",
    "    $answer = execute response(inputs=$last_user_message)\n",
    "    bot $answer\n",
    "\"\"\"\n",
    "\n",
    "yaml_content=\"\"\"\n",
    "models:\n",
    "-   type: main\n",
    "    engine: openai\n",
    "    model: gpt-3.5-turbo-16k\n",
    "\"\"\""
   ]
  },
  {
   "cell_type": "code",
   "execution_count": 9,
   "metadata": {},
   "outputs": [
    {
     "name": "stderr",
     "output_type": "stream",
     "text": [
      "/home/susearc/Macos/py3.11/lib/python3.11/site-packages/tqdm/auto.py:21: TqdmWarning: IProgress not found. Please update jupyter and ipywidgets. See https://ipywidgets.readthedocs.io/en/stable/user_install.html\n",
      "  from .autonotebook import tqdm as notebook_tqdm\n"
     ]
    }
   ],
   "source": [
    "from nemoguardrails import LLMRails, RailsConfig\n",
    "\n",
    "config = RailsConfig.from_content(colang_content=colang_content,\n",
    "                                 yaml_content=yaml_content)\n",
    "rails = LLMRails(config)\n"
   ]
  },
  {
   "cell_type": "code",
   "execution_count": 11,
   "metadata": {},
   "outputs": [
    {
     "data": {
      "text/plain": [
       "\"Action 'response' not found.\""
      ]
     },
     "execution_count": 11,
     "metadata": {},
     "output_type": "execute_result"
    }
   ],
   "source": [
    "await rails.generate_async(prompt=\"hello\")\n",
    "#because there is no response function defined"
   ]
  },
  {
   "cell_type": "code",
   "execution_count": 16,
   "metadata": {},
   "outputs": [],
   "source": [
    "res = \"\"\"\n",
    "Hello, Im a healthcare bot,\n",
    "I can do the following-\n",
    "\n",
    "* Book an appointment with a doctor\n",
    "* Recommend a doctor based on your symptops\n",
    "* Find your previous appointments\n",
    "\"\"\""
   ]
  },
  {
   "cell_type": "code",
   "execution_count": 21,
   "metadata": {},
   "outputs": [
    {
     "data": {
      "text/plain": [
       "'\\nHello, Im a healthcare bot,\\nI can do the following-\\n\\n* Book an appointment with a doctor\\n* Recommend a doctor based on your symptops\\n* Find your previous appointments\\n'"
      ]
     },
     "execution_count": 21,
     "metadata": {},
     "output_type": "execute_result"
    }
   ],
   "source": [
    "#define the response function\n",
    "async def func(inputs:str,res=res):\n",
    "     print(res)\n",
    "\n",
    "\n",
    "await rails.generate_async(prompt=\"Hello\") #you have to mention the function"
   ]
  },
  {
   "cell_type": "code",
   "execution_count": 22,
   "metadata": {},
   "outputs": [],
   "source": [
    "rails.register_action(action=func, name=\"response\")\n"
   ]
  },
  {
   "cell_type": "code",
   "execution_count": 23,
   "metadata": {},
   "outputs": [
    {
     "name": "stdout",
     "output_type": "stream",
     "text": [
      "\n",
      "Hello, Im a healthcare bot,\n",
      "I can do the following-\n",
      "\n",
      "* Book an appointment with a doctor\n",
      "* Recommend a doctor based on your symptops\n",
      "* Find your previous appointments\n",
      "\n"
     ]
    },
    {
     "name": "stderr",
     "output_type": "stream",
     "text": [
      "Retrying langchain_community.chat_models.openai.acompletion_with_retry.<locals>._completion_with_retry in 4.0 seconds as it raised RateLimitError: Rate limit reached for gpt-3.5-turbo-16k in organization org-nXqwFsbc9DcAFxyTEkiHXwz6 on requests per min (RPM): Limit 3, Used 3, Requested 1. Please try again in 20s. Visit https://platform.openai.com/account/rate-limits to learn more. You can increase your rate limit by adding a payment method to your account at https://platform.openai.com/account/billing..\n"
     ]
    },
    {
     "data": {
      "text/plain": [
       "\"I'm sorry, but I can't respond to that.\""
      ]
     },
     "execution_count": 23,
     "metadata": {},
     "output_type": "execute_result"
    }
   ],
   "source": [
    "await rails.generate_async(prompt=\"Who is the best president\")"
   ]
  },
  {
   "cell_type": "code",
   "execution_count": null,
   "metadata": {},
   "outputs": [],
   "source": []
  }
 ],
 "metadata": {
  "kernelspec": {
   "display_name": "Python 3",
   "language": "python",
   "name": "python3"
  },
  "language_info": {
   "codemirror_mode": {
    "name": "ipython",
    "version": 3
   },
   "file_extension": ".py",
   "mimetype": "text/x-python",
   "name": "python",
   "nbconvert_exporter": "python",
   "pygments_lexer": "ipython3",
   "version": "3.11.6"
  }
 },
 "nbformat": 4,
 "nbformat_minor": 2
}
